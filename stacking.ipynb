{
  "nbformat": 4,
  "nbformat_minor": 0,
  "metadata": {
    "colab": {
      "provenance": [],
      "authorship_tag": "ABX9TyNLkUhsEmNNCwZ9P420NskA",
      "include_colab_link": true
    },
    "kernelspec": {
      "name": "python3",
      "display_name": "Python 3"
    },
    "language_info": {
      "name": "python"
    }
  },
  "cells": [
    {
      "cell_type": "markdown",
      "metadata": {
        "id": "view-in-github",
        "colab_type": "text"
      },
      "source": [
        "<a href=\"https://colab.research.google.com/github/zhiyuan-95/House-Prices/blob/main/stacking.ipynb\" target=\"_parent\"><img src=\"https://colab.research.google.com/assets/colab-badge.svg\" alt=\"Open In Colab\"/></a>"
      ]
    },
    {
      "cell_type": "code",
      "source": [
        "import pandas as pd\n",
        "from sklearn.model_selection import train_test_split\n",
        "from sklearn.model_selection import KFold\n",
        "from sklearn.model_selection import cross_val_score\n",
        "from sklearn.ensemble import RandomForestRegressor\n",
        "from sklearn.ensemble import AdaBoostRegressor\n",
        "from sklearn.ensemble import GradientBoostingRegressor\n",
        "from sklearn.svm import SVR\n",
        "from sklearn.neighbors import KNeighborsRegressor"
      ],
      "metadata": {
        "id": "gGrwXaYCrrU7"
      },
      "execution_count": 1,
      "outputs": []
    },
    {
      "cell_type": "code",
      "source": [
        "from google.colab import drive\n",
        "drive.mount('/content/drive/')"
      ],
      "metadata": {
        "colab": {
          "base_uri": "https://localhost:8080/"
        },
        "id": "Hf2CtRbosAzs",
        "outputId": "21cd4047-817b-497c-fc22-7ae15059a0dc"
      },
      "execution_count": 2,
      "outputs": [
        {
          "output_type": "stream",
          "name": "stdout",
          "text": [
            "Mounted at /content/drive/\n"
          ]
        }
      ]
    },
    {
      "cell_type": "code",
      "execution_count": 122,
      "metadata": {
        "id": "WF2RnPxbqH_r",
        "colab": {
          "base_uri": "https://localhost:8080/"
        },
        "outputId": "333cca16-59ed-4e7e-e4ce-354c1c28a700"
      },
      "outputs": [
        {
          "output_type": "execute_result",
          "data": {
            "text/plain": [
              "(1452, 315)"
            ]
          },
          "metadata": {},
          "execution_count": 122
        }
      ],
      "source": [
        "train = pd.read_csv(f'/content/drive/MyDrive/Colab/kaggle/HousePrices/train_encoded.csv')\n",
        "test = pd.read_csv(f'/content/drive/MyDrive/Colab/kaggle/HousePrices/test_encoded.csv')\n",
        "train.shape"
      ]
    },
    {
      "cell_type": "code",
      "source": [
        "class optimizer:\n",
        "  def __init__(self, model,feature, target=None):\n",
        "    self._model = model\n",
        "    self._model_params = self._model._get_param_names()\n",
        "    if feature.shape[1] == 314:\n",
        "      self._name = self._model.__name__\n",
        "      self._record_path = f'/content/drive/MyDrive/Colab/kaggle/HousePrices/{self._name}.csv'\n",
        "    else:\n",
        "      self._name = f'{self._model.__name__}_{feature.shape[1]}'\n",
        "      self._record_path = f'/content/drive/MyDrive/Colab/kaggle/HousePrices/{self._name}.csv'\n",
        "    self._X = feature\n",
        "    self._y = target\n",
        "  def update_record(self,params,score):\n",
        "    records = pd.read_csv(self._record_path)\n",
        "    records.loc[len(records)] = params\n",
        "    records.loc[len(records)-1,'score'] = score\n",
        "    records.to_csv(self._record_path, index = False)\n",
        "  def reset(self):\n",
        "    df = pd.DataFrame(columns = self._model_params+['score'])\n",
        "    df.to_csv(self._record_path, index = False)\n",
        "  def best_param(self):\n",
        "    records = pd.read_csv(self._record_path)\n",
        "    return records.sort_values(by = 'score', ascending=False).iloc[0,:]\n",
        "  def top10(self):\n",
        "    records = pd.read_csv(self._record_path)\n",
        "    return records.sort_values(by = 'score', ascending=False).iloc[:10,:]\n",
        "  def train(self,**params):\n",
        "    Model = self._model(**params)\n",
        "    kf = KFold(n_splits=5, shuffle=True, random_state=42)\n",
        "    cross_val_results = cross_val_score(Model, self._X, list(self._y['SalePrice']), cv=kf, scoring = 'neg_root_mean_squared_error')\n",
        "    score=round(cross_val_results.mean(),0)\n",
        "    self.update_record(Model.get_params(),score)\n",
        "    return score"
      ],
      "metadata": {
        "id": "elwW5wLSVRjB"
      },
      "execution_count": 123,
      "outputs": []
    },
    {
      "cell_type": "code",
      "source": [
        "target = train[['SalePrice']]\n",
        "feature = train.drop(columns = ['SalePrice'])\n",
        "#target['Id'] = feature['Id']\n",
        "feature_set1 = ['MSSubClass','LotArea','OverallQual','OverallCond','YearBuilt','TotalBsmtSF','BedroomAbvGr','KitchenAbvGr','KitchenQual','TotRmsAbvGrd','BldgType','HouseStype','GarageArea','PoolArea','1stFlrSF','2ndFlrSF','GrLivArea','FullBath','total_area','YearRemodAdd','MoSold','YrSold','SaleType','SaleCondition']\n",
        "feature_set2 = ['MSZoning','Street','Alley','Utilities','LotConfig','Neighborhood','Condition1','Condition2','YearBuild','YearRemodAdd','LandSlope','BldgType','HouseStype','OverallQual','OverallCond','Foundation','MoSold','YrSold','SaleType','SaleCondition']\n",
        "featureSet1 = []\n",
        "featureSet2 = []\n",
        "for x in feature_set1: featureSet1+=list(filter(lambda i: i[:len(x)]==x, feature))\n",
        "for x in feature_set2: featureSet2+=list(filter(lambda i: i[:len(x)]==x, feature))\n",
        "featureSet3 = [x for x in feature if x not in featureSet1+featureSet2]"
      ],
      "metadata": {
        "id": "w0SwXK6huv5t"
      },
      "execution_count": 124,
      "outputs": []
    },
    {
      "cell_type": "markdown",
      "source": [
        "### level 1 prediction\n",
        "\n",
        "*   At the level 1 prediction stage, the dataset is partitioned into threesegments. Each specific model is trained on two of these segments and utilized to predict the third segment consecutively, repeating this process three times.\n",
        "*   This methodology aims to generate comprehensive predictions for the entire dataset, augmenting it with the predictions derived from each specific model as new features. therefore I can combine the advantage of different model\n"
      ],
      "metadata": {
        "id": "TqqRHabm0W-v"
      }
    },
    {
      "cell_type": "code",
      "source": [],
      "metadata": {
        "id": "ItH2OFbIvgMf"
      },
      "execution_count": 100,
      "outputs": []
    },
    {
      "cell_type": "code",
      "source": [
        "# add level 1 prediction to test set\n",
        "models = [RandomForestRegressor,GradientBoostingRegressor,AdaBoostRegressor,SVR]\n",
        "feature_sets = [list(feature.columns),featureSet1,featureSet2,featureSet3]\n",
        "new_features = pd.DataFrame()\n",
        "for m in models:\n",
        "  for f in feature_sets:\n",
        "    opt = optimizer(m,feature[f],target)\n",
        "    print(opt._name)\n",
        "    best_params = {key:value for key,value in opt.best_param()[:-1].items() if remove(value)}\n",
        "    md = m(**best_params)\n",
        "    md.fit(feature[f], target['SalePrice'])\n",
        "    new_features[opt._name] = md.predict(test[f])\n",
        "test = pd.concat([test,new_features], axis=1)"
      ],
      "metadata": {
        "colab": {
          "base_uri": "https://localhost:8080/"
        },
        "id": "BsO4YK1a4wz1",
        "outputId": "d4333841-a66b-4cee-9952-33fe5628b7df"
      },
      "execution_count": 101,
      "outputs": [
        {
          "output_type": "stream",
          "name": "stdout",
          "text": [
            "RandomForestRegressor\n",
            "RandomForestRegressor_46\n",
            "RandomForestRegressor_97\n",
            "RandomForestRegressor_198\n",
            "GradientBoostingRegressor\n",
            "GradientBoostingRegressor_46\n",
            "GradientBoostingRegressor_97\n",
            "GradientBoostingRegressor_198\n",
            "AdaBoostRegressor\n",
            "AdaBoostRegressor_46\n",
            "AdaBoostRegressor_97\n",
            "AdaBoostRegressor_198\n",
            "SVR\n",
            "SVR_46\n",
            "SVR_97\n",
            "SVR_198\n"
          ]
        }
      ]
    },
    {
      "cell_type": "code",
      "source": [
        "def split(f,t):\n",
        "  X_23, X_1, y_23, y_1 = train_test_split(f,t, test_size=0.335, random_state=17)\n",
        "  X_2,X_3,y_2,y_3 = train_test_split(X_23,y_23, test_size=0.5, random_state=17)\n",
        "  tool1 = {1:(X_1,y_1),2:(X_2,y_2),3:(X_3,y_3)}\n",
        "  tool2 = {1:[2,3],2:[1,3],3:[1,2]}\n",
        "  return tool1,tool2"
      ],
      "metadata": {
        "id": "rfuM671r5n09"
      },
      "execution_count": 128,
      "outputs": []
    },
    {
      "cell_type": "code",
      "source": [
        "import math\n",
        "def remove(n):\n",
        "  # when i retrieve the parameter from the record, some parameters are nan\n",
        "  # so I have remove nan\n",
        "  if type(n)==str:return True\n",
        "  else:\n",
        "    if math.isnan(n): return False\n",
        "    else: return True\n",
        "def partial_prediction(model,fe,ta):\n",
        "  opt = optimizer(model,fe)\n",
        "  tool1,tool2 = split(fe,ta)\n",
        "  out = []\n",
        "  for n in range(3):\n",
        "    feature_1,feature_2 = tool1[tool2[n+1][0]][0],tool1[tool2[n+1][1]][0]\n",
        "    target_1,target_2 = tool1[tool2[n+1][0]][1],tool1[tool2[n+1][1]][1]\n",
        "    x_train,y_train = pd.concat([feature_1,feature_2], axis = 0), pd.concat([target_1,target_2], axis=0)['SalePrice']\n",
        "    best_params = {key:value for key,value in opt.best_param()[:-1].items() if remove(value)}\n",
        "    md = model(**best_params)\n",
        "    md.fit(x_train,y_train)\n",
        "    out.append(pd.DataFrame({'SalePrice':md.predict(tool1[n+1][0])}, index=tool1[n+1][1].index))\n",
        "  return out"
      ],
      "metadata": {
        "id": "59nHpdXVw-qg"
      },
      "execution_count": 129,
      "outputs": []
    },
    {
      "cell_type": "code",
      "source": [
        "# add level1 prediction as new features to the original feature of training set\n",
        "for m in models:\n",
        "  for f in feature_sets:\n",
        "    opt = optimizer(m,feature[f],target)\n",
        "\n",
        "    new_feature = pd.concat(partial_prediction(m,feature[f],target), axis=0).sort_index()\n",
        "    feature[opt._name] = list(new_feature['SalePrice'])"
      ],
      "metadata": {
        "id": "-nFi7IkXmGPu"
      },
      "execution_count": 131,
      "outputs": []
    },
    {
      "cell_type": "code",
      "source": [
        "feature.shape"
      ],
      "metadata": {
        "colab": {
          "base_uri": "https://localhost:8080/"
        },
        "id": "j68daBufrB4z",
        "outputId": "d7ea9503-c780-4940-b23d-2ade1d681640"
      },
      "execution_count": 132,
      "outputs": [
        {
          "output_type": "execute_result",
          "data": {
            "text/plain": [
              "(1452, 330)"
            ]
          },
          "metadata": {},
          "execution_count": 132
        }
      ]
    },
    {
      "cell_type": "code",
      "source": [
        "import random\n",
        "opt_final = optimizer(GradientBoostingRegressor,feature,target)\n",
        "print('n','es ', 'md','mss', 'score')\n",
        "for _ in range(200):\n",
        "  es = random.randint(300,1200)\n",
        "  lr = round(random.uniform(0.01,0.1),4)\n",
        "  md = random.randint(2,4)\n",
        "  print(_+1,es, lr,md, end=' ')\n",
        "  score = opt_final.train(n_estimators=es, learning_rate=lr,max_depth = md, max_features='sqrt')\n",
        "  print(score)"
      ],
      "metadata": {
        "colab": {
          "base_uri": "https://localhost:8080/"
        },
        "id": "BHJ_xO6kJbI1",
        "outputId": "f85eadb8-cd5d-46ff-fe4d-53b29603eec6"
      },
      "execution_count": null,
      "outputs": [
        {
          "output_type": "stream",
          "name": "stdout",
          "text": [
            "n es  md mss score\n",
            "1 430 0.0376 3 -21160.0\n",
            "2 632 0.0685 3 -21647.0\n",
            "3 540 0.0232 3 -21243.0\n",
            "4 1197 0.0563 3 -21173.0\n",
            "5 959 0.0223 2 -21179.0\n",
            "6 342 0.073 4 -21888.0\n",
            "7 963 0.0182 4 -21268.0\n",
            "8 417 0.0279 4 -21425.0\n",
            "9 775 0.0835 4 -21568.0\n",
            "10 464 0.0883 4 -21835.0\n",
            "11 722 0.0514 2 -21295.0\n",
            "12 1187 0.0638 4 -21608.0\n",
            "13 921 0.0578 4 -21545.0\n",
            "14 830 0.0887 3 -21575.0\n",
            "15 818 0.0356 3 -21165.0\n",
            "16 833 0.0125 4 -21517.0\n",
            "17 1066 0.0626 3 -21304.0\n",
            "18 797 0.0227 3 -21047.0\n",
            "19 918 0.0398 3 -21164.0\n",
            "20 1031 0.092 3 -21520.0\n",
            "21 1057 0.0486 2 -20913.0\n",
            "22 1070 0.0422 3 -21042.0\n",
            "23 458 0.0861 3 -21291.0\n",
            "24 1200 0.0469 4 -21445.0\n",
            "25 775 0.0716 4 -21794.0\n",
            "26 1186 0.0979 4 -22069.0\n",
            "27 1168 0.0355 4 -21278.0\n",
            "28 607 0.0994 3 -21374.0\n",
            "29 826 0.083 4 -21571.0\n",
            "30 1191 0.0443 4 -21320.0\n",
            "31 1157 0.0942 2 -22118.0\n",
            "32 887 0.0356 4 -21351.0\n",
            "33 617 0.0446 4 -21251.0\n",
            "34 1103 0.0655 4 -21526.0\n",
            "35 914 0.0568 3 -21596.0\n",
            "36 736 0.0357 3 -21338.0\n",
            "37 825 0.0498 3 -21174.0\n",
            "38 1040 0.0712 2 -21800.0\n",
            "39 359 0.061 2 -21953.0\n",
            "40 936 0.0166 2 -21299.0\n",
            "41 366 0.0967 4 -21558.0\n",
            "42 1008 0.0381 4 -21363.0\n",
            "43 503 0.0588 2 -21347.0\n",
            "44 467 0.0207 4 -21545.0\n",
            "45 892 0.0104 3 -21316.0\n",
            "46 864 0.0685 4 -21585.0\n",
            "47 874 0.0509 4 -21584.0\n",
            "48 1103 0.0761 3 -21244.0\n",
            "49 1098 0.035 2 -20996.0\n",
            "50 906 0.0994 2 -22030.0\n",
            "51 933 0.0759 3 -21852.0\n",
            "52 963 0.0125 2 -21558.0\n",
            "53 843 0.0466 2 -20949.0\n",
            "54 1111 0.0677 2 -21820.0\n",
            "55 1136 0.0737 4 -21719.0\n",
            "56 520 0.0529 4 -21870.0\n",
            "57 881 0.0725 4 -21492.0\n",
            "58 708 0.045 4 -21341.0\n",
            "59 1086 0.0337 2 -21096.0\n",
            "60 919 0.0453 3 -21373.0\n",
            "61 867 0.0565 4 -21329.0\n",
            "62 1039 0.0302 2 -21023.0\n",
            "63 668 0.0936 3 -21853.0\n",
            "64 1018 0.0873 3 -21498.0\n",
            "65 1074 0.0692 4 -21395.0\n",
            "66 421 0.0707 3 -21067.0\n",
            "67 301 0.0598 4 -21313.0\n",
            "68 536 0.0397 4 -21287.0\n",
            "69 371 0.0645 2 -21638.0\n",
            "70 349 0.0671 2 -21779.0\n",
            "71 910 0.0751 3 -21218.0\n",
            "72 608 0.0215 2 -21581.0\n",
            "73 857 0.0621 4 -21755.0\n",
            "74 406 0.0822 3 -21634.0\n",
            "75 542 0.0265 4 -21475.0\n",
            "76 1090 0.0365 4 -21400.0\n",
            "77 669 0.0642 3 -21597.0\n",
            "78 1114 0.089 4 -21759.0\n",
            "79 529 0.0351 4 -21303.0\n",
            "80 749 0.0675 3 -21297.0\n",
            "81 1055 0.0547 2 -21000.0\n",
            "82 612 0.0155 4 -21351.0\n",
            "83 849 0.0269 4 -21099.0\n",
            "84 959 0.0999 3 -21683.0\n",
            "85 482 0.0805 2 -21746.0\n",
            "86 985 0.0362 3 -21129.0\n",
            "87 521 0.0682 4 -21633.0\n",
            "88 517 0.0822 4 -21944.0\n",
            "89 780 0.0657 3 -21628.0\n",
            "90 711 0.037 3 -21207.0\n",
            "91 716 0.0346 3 -21395.0\n",
            "92 872 0.0313 4 -21458.0\n",
            "93 325 0.0448 4 -21329.0\n",
            "94 1033 0.057 4 -21743.0\n",
            "95 966 0.0669 4 -21915.0\n",
            "96 358 0.0497 4 -21629.0\n",
            "97 378 0.0365 3 -21361.0\n",
            "98 502 0.0288 2 -21589.0\n",
            "99 764 0.0891 4 -21518.0\n",
            "100 1009 0.0206 4 -21116.0\n",
            "101 1084 0.0827 2 -21321.0\n",
            "102 811 0.079 4 -21727.0\n",
            "103 978 0.011 4 -21122.0\n",
            "104 544 0.0853 2 -21743.0\n",
            "105 954 0.0925 3 -21551.0\n",
            "106 821 0.0668 4 -21515.0\n",
            "107 500 0.0251 2 -21586.0\n",
            "108 1003 0.0719 3 -21614.0\n",
            "109 626 0.01 3 -21803.0\n",
            "110 894 0.0298 3 -21121.0\n",
            "111 419 0.0553 3 -21388.0\n",
            "112 1111 0.0409 3 -21427.0\n",
            "113 777 0.0136 4 -21410.0\n",
            "114 653 0.0806 4 -21293.0\n",
            "115 1087 0.0598 2 "
          ]
        }
      ]
    },
    {
      "cell_type": "code",
      "source": [
        "feature.to_csv(f'/content/drive/MyDrive/Colab/kaggle/HousePrices/feature_train_stacked.csv', index = False)\n",
        "test.to_csv(f'/content/drive/MyDrive/Colab/kaggle/HousePrices/test_stacked.csv', index=False)\n",
        "target.to_csv(f'/content/drive/MyDrive/Colab/kaggle/HousePrices/target_tran.csv', index=False)"
      ],
      "metadata": {
        "id": "LXLR9ojeU1-z"
      },
      "execution_count": 133,
      "outputs": []
    },
    {
      "cell_type": "code",
      "source": [
        "best_params = {key:value for key,value in opt_final.best_param()[:-1].items() if remove(value)}\n",
        "M = GradientBoostingRegressor(**best_params)\n",
        "M.fit(feature, target['SalePrice'])\n",
        "prediction = M.predict(test)\n",
        "result =pd.DataFrame({'Id':[int(1461+x) for x in range(len(prediction))], 'SalePrice':prediction})\n",
        "result.to_csv('submission.csv',index=False )"
      ],
      "metadata": {
        "id": "PWkvq3K8Jv5Z"
      },
      "execution_count": 134,
      "outputs": []
    },
    {
      "cell_type": "code",
      "source": [
        "from google.colab import files\n",
        "# Upload the kaggle.json file\n",
        "files.upload()\n",
        "!mkdir /root/.kaggle/\n",
        "!cp kaggle.json /root/.kaggle/"
      ],
      "metadata": {
        "id": "ancMMxVlK4HX",
        "colab": {
          "base_uri": "https://localhost:8080/",
          "height": 74
        },
        "outputId": "41e1f722-d121-4620-bd36-5d68f6f53168"
      },
      "execution_count": 135,
      "outputs": [
        {
          "output_type": "display_data",
          "data": {
            "text/plain": [
              "<IPython.core.display.HTML object>"
            ],
            "text/html": [
              "\n",
              "     <input type=\"file\" id=\"files-76aef7c8-c645-44a5-8f9d-2d023a1f2fb0\" name=\"files[]\" multiple disabled\n",
              "        style=\"border:none\" />\n",
              "     <output id=\"result-76aef7c8-c645-44a5-8f9d-2d023a1f2fb0\">\n",
              "      Upload widget is only available when the cell has been executed in the\n",
              "      current browser session. Please rerun this cell to enable.\n",
              "      </output>\n",
              "      <script>// Copyright 2017 Google LLC\n",
              "//\n",
              "// Licensed under the Apache License, Version 2.0 (the \"License\");\n",
              "// you may not use this file except in compliance with the License.\n",
              "// You may obtain a copy of the License at\n",
              "//\n",
              "//      http://www.apache.org/licenses/LICENSE-2.0\n",
              "//\n",
              "// Unless required by applicable law or agreed to in writing, software\n",
              "// distributed under the License is distributed on an \"AS IS\" BASIS,\n",
              "// WITHOUT WARRANTIES OR CONDITIONS OF ANY KIND, either express or implied.\n",
              "// See the License for the specific language governing permissions and\n",
              "// limitations under the License.\n",
              "\n",
              "/**\n",
              " * @fileoverview Helpers for google.colab Python module.\n",
              " */\n",
              "(function(scope) {\n",
              "function span(text, styleAttributes = {}) {\n",
              "  const element = document.createElement('span');\n",
              "  element.textContent = text;\n",
              "  for (const key of Object.keys(styleAttributes)) {\n",
              "    element.style[key] = styleAttributes[key];\n",
              "  }\n",
              "  return element;\n",
              "}\n",
              "\n",
              "// Max number of bytes which will be uploaded at a time.\n",
              "const MAX_PAYLOAD_SIZE = 100 * 1024;\n",
              "\n",
              "function _uploadFiles(inputId, outputId) {\n",
              "  const steps = uploadFilesStep(inputId, outputId);\n",
              "  const outputElement = document.getElementById(outputId);\n",
              "  // Cache steps on the outputElement to make it available for the next call\n",
              "  // to uploadFilesContinue from Python.\n",
              "  outputElement.steps = steps;\n",
              "\n",
              "  return _uploadFilesContinue(outputId);\n",
              "}\n",
              "\n",
              "// This is roughly an async generator (not supported in the browser yet),\n",
              "// where there are multiple asynchronous steps and the Python side is going\n",
              "// to poll for completion of each step.\n",
              "// This uses a Promise to block the python side on completion of each step,\n",
              "// then passes the result of the previous step as the input to the next step.\n",
              "function _uploadFilesContinue(outputId) {\n",
              "  const outputElement = document.getElementById(outputId);\n",
              "  const steps = outputElement.steps;\n",
              "\n",
              "  const next = steps.next(outputElement.lastPromiseValue);\n",
              "  return Promise.resolve(next.value.promise).then((value) => {\n",
              "    // Cache the last promise value to make it available to the next\n",
              "    // step of the generator.\n",
              "    outputElement.lastPromiseValue = value;\n",
              "    return next.value.response;\n",
              "  });\n",
              "}\n",
              "\n",
              "/**\n",
              " * Generator function which is called between each async step of the upload\n",
              " * process.\n",
              " * @param {string} inputId Element ID of the input file picker element.\n",
              " * @param {string} outputId Element ID of the output display.\n",
              " * @return {!Iterable<!Object>} Iterable of next steps.\n",
              " */\n",
              "function* uploadFilesStep(inputId, outputId) {\n",
              "  const inputElement = document.getElementById(inputId);\n",
              "  inputElement.disabled = false;\n",
              "\n",
              "  const outputElement = document.getElementById(outputId);\n",
              "  outputElement.innerHTML = '';\n",
              "\n",
              "  const pickedPromise = new Promise((resolve) => {\n",
              "    inputElement.addEventListener('change', (e) => {\n",
              "      resolve(e.target.files);\n",
              "    });\n",
              "  });\n",
              "\n",
              "  const cancel = document.createElement('button');\n",
              "  inputElement.parentElement.appendChild(cancel);\n",
              "  cancel.textContent = 'Cancel upload';\n",
              "  const cancelPromise = new Promise((resolve) => {\n",
              "    cancel.onclick = () => {\n",
              "      resolve(null);\n",
              "    };\n",
              "  });\n",
              "\n",
              "  // Wait for the user to pick the files.\n",
              "  const files = yield {\n",
              "    promise: Promise.race([pickedPromise, cancelPromise]),\n",
              "    response: {\n",
              "      action: 'starting',\n",
              "    }\n",
              "  };\n",
              "\n",
              "  cancel.remove();\n",
              "\n",
              "  // Disable the input element since further picks are not allowed.\n",
              "  inputElement.disabled = true;\n",
              "\n",
              "  if (!files) {\n",
              "    return {\n",
              "      response: {\n",
              "        action: 'complete',\n",
              "      }\n",
              "    };\n",
              "  }\n",
              "\n",
              "  for (const file of files) {\n",
              "    const li = document.createElement('li');\n",
              "    li.append(span(file.name, {fontWeight: 'bold'}));\n",
              "    li.append(span(\n",
              "        `(${file.type || 'n/a'}) - ${file.size} bytes, ` +\n",
              "        `last modified: ${\n",
              "            file.lastModifiedDate ? file.lastModifiedDate.toLocaleDateString() :\n",
              "                                    'n/a'} - `));\n",
              "    const percent = span('0% done');\n",
              "    li.appendChild(percent);\n",
              "\n",
              "    outputElement.appendChild(li);\n",
              "\n",
              "    const fileDataPromise = new Promise((resolve) => {\n",
              "      const reader = new FileReader();\n",
              "      reader.onload = (e) => {\n",
              "        resolve(e.target.result);\n",
              "      };\n",
              "      reader.readAsArrayBuffer(file);\n",
              "    });\n",
              "    // Wait for the data to be ready.\n",
              "    let fileData = yield {\n",
              "      promise: fileDataPromise,\n",
              "      response: {\n",
              "        action: 'continue',\n",
              "      }\n",
              "    };\n",
              "\n",
              "    // Use a chunked sending to avoid message size limits. See b/62115660.\n",
              "    let position = 0;\n",
              "    do {\n",
              "      const length = Math.min(fileData.byteLength - position, MAX_PAYLOAD_SIZE);\n",
              "      const chunk = new Uint8Array(fileData, position, length);\n",
              "      position += length;\n",
              "\n",
              "      const base64 = btoa(String.fromCharCode.apply(null, chunk));\n",
              "      yield {\n",
              "        response: {\n",
              "          action: 'append',\n",
              "          file: file.name,\n",
              "          data: base64,\n",
              "        },\n",
              "      };\n",
              "\n",
              "      let percentDone = fileData.byteLength === 0 ?\n",
              "          100 :\n",
              "          Math.round((position / fileData.byteLength) * 100);\n",
              "      percent.textContent = `${percentDone}% done`;\n",
              "\n",
              "    } while (position < fileData.byteLength);\n",
              "  }\n",
              "\n",
              "  // All done.\n",
              "  yield {\n",
              "    response: {\n",
              "      action: 'complete',\n",
              "    }\n",
              "  };\n",
              "}\n",
              "\n",
              "scope.google = scope.google || {};\n",
              "scope.google.colab = scope.google.colab || {};\n",
              "scope.google.colab._files = {\n",
              "  _uploadFiles,\n",
              "  _uploadFilesContinue,\n",
              "};\n",
              "})(self);\n",
              "</script> "
            ]
          },
          "metadata": {}
        },
        {
          "output_type": "stream",
          "name": "stdout",
          "text": [
            "Saving kaggle.json to kaggle.json\n"
          ]
        }
      ]
    },
    {
      "cell_type": "code",
      "source": [
        "!kaggle competitions submit -c house-prices-advanced-regression-techniques -f submission.csv -m \"Message\""
      ],
      "metadata": {
        "colab": {
          "base_uri": "https://localhost:8080/"
        },
        "id": "LHZIcRbiKoxf",
        "outputId": "e673e23b-5972-4054-fdf7-225a573c0674"
      },
      "execution_count": 136,
      "outputs": [
        {
          "output_type": "stream",
          "name": "stdout",
          "text": [
            "Warning: Your Kaggle API key is readable by other users on this system! To fix this, you can run 'chmod 600 /root/.kaggle/kaggle.json'\n",
            "Warning: Looks like you're using an outdated API Version, please consider updating (server 1.6.4 / client 1.5.16)\n",
            "100% 33.7k/33.7k [00:01<00:00, 18.4kB/s]\n",
            "Successfully submitted to House Prices - Advanced Regression Techniques"
          ]
        }
      ]
    },
    {
      "cell_type": "code",
      "source": [],
      "metadata": {
        "id": "88sBMvEeTQYw"
      },
      "execution_count": null,
      "outputs": []
    }
  ]
}