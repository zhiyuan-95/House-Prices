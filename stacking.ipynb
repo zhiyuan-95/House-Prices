{
  "nbformat": 4,
  "nbformat_minor": 0,
  "metadata": {
    "colab": {
      "provenance": [],
      "authorship_tag": "ABX9TyOPaekzGHewa2R90ocz2CZO",
      "include_colab_link": true
    },
    "kernelspec": {
      "name": "python3",
      "display_name": "Python 3"
    },
    "language_info": {
      "name": "python"
    }
  },
  "cells": [
    {
      "cell_type": "markdown",
      "metadata": {
        "id": "view-in-github",
        "colab_type": "text"
      },
      "source": [
        "<a href=\"https://colab.research.google.com/github/zhiyuan-95/House-Prices/blob/main/stacking.ipynb\" target=\"_parent\"><img src=\"https://colab.research.google.com/assets/colab-badge.svg\" alt=\"Open In Colab\"/></a>"
      ]
    },
    {
      "cell_type": "code",
      "source": [
        "import pandas as pd\n",
        "from sklearn.model_selection import train_test_split\n",
        "from sklearn.model_selection import KFold\n",
        "from sklearn.model_selection import cross_val_score\n",
        "from sklearn.ensemble import RandomForestRegressor\n",
        "from sklearn.ensemble import AdaBoostRegressor\n",
        "from sklearn.ensemble import GradientBoostingRegressor\n",
        "from sklearn.svm import SVR\n",
        "from sklearn.neighbors import KNeighborsRegressor"
      ],
      "metadata": {
        "id": "gGrwXaYCrrU7"
      },
      "execution_count": null,
      "outputs": []
    },
    {
      "cell_type": "code",
      "source": [
        "from google.colab import drive\n",
        "drive.mount('/content/drive/')"
      ],
      "metadata": {
        "colab": {
          "base_uri": "https://localhost:8080/"
        },
        "id": "Hf2CtRbosAzs",
        "outputId": "bcf38450-7911-4ace-ce3f-990d051ea8f2"
      },
      "execution_count": null,
      "outputs": [
        {
          "output_type": "stream",
          "name": "stdout",
          "text": [
            "Drive already mounted at /content/drive/; to attempt to forcibly remount, call drive.mount(\"/content/drive/\", force_remount=True).\n"
          ]
        }
      ]
    },
    {
      "cell_type": "code",
      "execution_count": null,
      "metadata": {
        "id": "WF2RnPxbqH_r"
      },
      "outputs": [],
      "source": [
        "train = pd.read_csv(f'/content/drive/MyDrive/Colab/kaggle/HousePrices/train_encoded.csv')\n",
        "test = pd.read_csv(f'/content/drive/MyDrive/Colab/kaggle/HousePrices/test_encoded.csv')"
      ]
    },
    {
      "cell_type": "code",
      "source": [
        "train.shape"
      ],
      "metadata": {
        "colab": {
          "base_uri": "https://localhost:8080/"
        },
        "id": "Bal2BPhf_bSx",
        "outputId": "5c5c4cd8-2cee-4239-8e62-77aab08572da"
      },
      "execution_count": null,
      "outputs": [
        {
          "output_type": "execute_result",
          "data": {
            "text/plain": [
              "(1444, 315)"
            ]
          },
          "metadata": {},
          "execution_count": 22
        }
      ]
    },
    {
      "cell_type": "code",
      "source": [
        "class optimizer:\n",
        "  def __init__(self, model):\n",
        "    self._model = model()\n",
        "    self._model_name = type(self._model).__name__\n",
        "    self._model_params = self._model._get_param_names()\n",
        "  def update_record(self,params,score):\n",
        "    records = pd.read_csv(f'/content/drive/MyDrive/Colab/kaggle/HousePrices/{self._model_name}.csv')\n",
        "    records.loc[len(records)] = params\n",
        "    records.loc[len(records)-1,'score'] = score\n",
        "    records.to_csv(f'/content/drive/MyDrive/Colab/kaggle/HousePrices/{self._model_name}.csv', index = False)\n",
        "  def reset(self):\n",
        "    df = pd.DataFrame(columns = self._model_params+['score'])\n",
        "    df.to_csv(f'/content/drive/MyDrive/Colab/kaggle/HousePrices/{self._model_name}.csv', index = False)\n",
        "  def best_param(self):\n",
        "    records = pd.read_csv(f'/content/drive/MyDrive/Colab/kaggle/HousePrices/{self._model_name}.csv')\n",
        "    return records.sort_values(by = 'score', ascending=False).iloc[0,:]\n",
        "  def top10(self):\n",
        "    records = pd.read_csv(f'/content/drive/MyDrive/Colab/kaggle/HousePrices/{self._model_name}.csv')\n",
        "    return records.sort_values(by = 'score', ascending=False).iloc[:10,:]"
      ],
      "metadata": {
        "id": "OHDbo393r2n7"
      },
      "execution_count": null,
      "outputs": []
    },
    {
      "cell_type": "code",
      "source": [
        "target = train[['SalePrice']]\n",
        "feature = train.drop(columns = ['SalePrice'])\n",
        "#target['Id'] = feature['Id']"
      ],
      "metadata": {
        "id": "w0SwXK6huv5t"
      },
      "execution_count": null,
      "outputs": []
    },
    {
      "cell_type": "markdown",
      "source": [
        "### level 1 prediction\n",
        "\n",
        "*   At the level 1 prediction stage, the dataset is partitioned into threesegments. Each specific model is trained on two of these segments and utilized to predict the third segment consecutively, repeating this process three times.\n",
        "*   This methodology aims to generate comprehensive predictions for the entire dataset, augmenting it with the predictions derived from each specific model as new features. therefore I can combine the advantage of different model\n"
      ],
      "metadata": {
        "id": "TqqRHabm0W-v"
      }
    },
    {
      "cell_type": "code",
      "source": [
        "X_23, X_1, y_23, y_1 = train_test_split(feature,target, test_size=0.335, random_state=13)\n",
        "X_2,X_3,y_2,y_3 = train_test_split(X_23,y_23, test_size=0.5, random_state=17)"
      ],
      "metadata": {
        "id": "gx-m4kaYt6w3"
      },
      "execution_count": null,
      "outputs": []
    },
    {
      "cell_type": "code",
      "source": [
        "tool1 = {1:(X_1,y_1),2:(X_2,y_2),3:(X_3,y_3)}\n",
        "tool2 = {1:[2,3],2:[1,3],3:[1,2]}"
      ],
      "metadata": {
        "id": "rfuM671r5n09"
      },
      "execution_count": null,
      "outputs": []
    },
    {
      "cell_type": "code",
      "source": [
        "import math\n",
        "def remove(n):\n",
        "  if type(n)==str:return True\n",
        "  else:\n",
        "    if math.isnan(n): return False\n",
        "    else: return True\n",
        "def partial_prediction(model,n):\n",
        "  feature_1,feature_2 = tool1[tool2[n][0]][0],tool1[tool2[n][1]][0]\n",
        "  target_1,target_2 = tool1[tool2[n][0]][1],tool1[tool2[n][1]][1]\n",
        "  x_train,y_train = pd.concat([feature_1,feature_2], axis = 0), pd.concat([target_1,target_2], axis=0)['SalePrice']\n",
        "  best_params = {key:value for key,value in opt.best_param()[:-1].items() if remove(value)}\n",
        "  md = model(**best_params)\n",
        "  md.fit(x_train,y_train)\n",
        "  return pd.DataFrame({'SalePrice':md.predict(tool1[n][0])})"
      ],
      "metadata": {
        "id": "59nHpdXVw-qg"
      },
      "execution_count": null,
      "outputs": []
    },
    {
      "cell_type": "code",
      "source": [
        "# add level 1 prediction to test set\n",
        "models = [GradientBoostingRegressor,AdaBoostRegressor,RandomForestRegressor]\n",
        "new_features = pd.DataFrame()\n",
        "for m in models:\n",
        "  print(m.__name__)\n",
        "  opt = optimizer(m)\n",
        "  best_params = {key:value for key,value in opt.best_param()[:-1].items() if remove(value)}\n",
        "  md = m(**best_params)\n",
        "  md.fit(feature, target['SalePrice'])\n",
        "  new_features[m.__name__] = md.predict(test)"
      ],
      "metadata": {
        "colab": {
          "base_uri": "https://localhost:8080/"
        },
        "id": "BsO4YK1a4wz1",
        "outputId": "cf45c338-243c-40b0-e169-1b67457f29e8"
      },
      "execution_count": null,
      "outputs": [
        {
          "output_type": "stream",
          "name": "stdout",
          "text": [
            "GradientBoostingRegressor\n",
            "AdaBoostRegressor\n",
            "RandomForestRegressor\n"
          ]
        }
      ]
    },
    {
      "cell_type": "code",
      "source": [
        "test = pd.concat([test,new_features], axis=1)"
      ],
      "metadata": {
        "id": "Pt6rR3m58I4p"
      },
      "execution_count": null,
      "outputs": []
    },
    {
      "cell_type": "code",
      "source": [
        "# add level1 prediction as new features to the original feature of training set\n",
        "for m in models:\n",
        "  print(m.__name__)\n",
        "  opt = optimizer(m)\n",
        "  new_feature = pd.concat([partial_prediction(m,i+1) for i in range(3)], axis=0)\n",
        "  new_feature = new_feature.sort_index()\n",
        "  feature[m.__name__] = list(new_feature['SalePrice'])"
      ],
      "metadata": {
        "id": "-nFi7IkXmGPu",
        "colab": {
          "base_uri": "https://localhost:8080/"
        },
        "outputId": "41514291-e560-44e1-e807-71c46bf85d49"
      },
      "execution_count": null,
      "outputs": [
        {
          "output_type": "stream",
          "name": "stdout",
          "text": [
            "GradientBoostingRegressor\n",
            "AdaBoostRegressor\n",
            "RandomForestRegressor\n"
          ]
        }
      ]
    },
    {
      "cell_type": "code",
      "source": [
        "opt = optimizer(GradientBoostingRegressor)\n",
        "best_params = {key:value for key,value in opt.best_param()[:-1].items() if remove(value)}\n",
        "M = GradientBoostingRegressor(**best_params)\n",
        "M.fit(feature, target['SalePrice'])"
      ],
      "metadata": {
        "colab": {
          "base_uri": "https://localhost:8080/",
          "height": 92
        },
        "id": "BHJ_xO6kJbI1",
        "outputId": "37468c0c-434e-4d9a-b4b5-9827819e411b"
      },
      "execution_count": null,
      "outputs": [
        {
          "output_type": "execute_result",
          "data": {
            "text/plain": [
              "GradientBoostingRegressor(learning_rate=0.0391, max_features='sqrt',\n",
              "                          n_estimators=574)"
            ],
            "text/html": [
              "<style>#sk-container-id-3 {color: black;background-color: white;}#sk-container-id-3 pre{padding: 0;}#sk-container-id-3 div.sk-toggleable {background-color: white;}#sk-container-id-3 label.sk-toggleable__label {cursor: pointer;display: block;width: 100%;margin-bottom: 0;padding: 0.3em;box-sizing: border-box;text-align: center;}#sk-container-id-3 label.sk-toggleable__label-arrow:before {content: \"▸\";float: left;margin-right: 0.25em;color: #696969;}#sk-container-id-3 label.sk-toggleable__label-arrow:hover:before {color: black;}#sk-container-id-3 div.sk-estimator:hover label.sk-toggleable__label-arrow:before {color: black;}#sk-container-id-3 div.sk-toggleable__content {max-height: 0;max-width: 0;overflow: hidden;text-align: left;background-color: #f0f8ff;}#sk-container-id-3 div.sk-toggleable__content pre {margin: 0.2em;color: black;border-radius: 0.25em;background-color: #f0f8ff;}#sk-container-id-3 input.sk-toggleable__control:checked~div.sk-toggleable__content {max-height: 200px;max-width: 100%;overflow: auto;}#sk-container-id-3 input.sk-toggleable__control:checked~label.sk-toggleable__label-arrow:before {content: \"▾\";}#sk-container-id-3 div.sk-estimator input.sk-toggleable__control:checked~label.sk-toggleable__label {background-color: #d4ebff;}#sk-container-id-3 div.sk-label input.sk-toggleable__control:checked~label.sk-toggleable__label {background-color: #d4ebff;}#sk-container-id-3 input.sk-hidden--visually {border: 0;clip: rect(1px 1px 1px 1px);clip: rect(1px, 1px, 1px, 1px);height: 1px;margin: -1px;overflow: hidden;padding: 0;position: absolute;width: 1px;}#sk-container-id-3 div.sk-estimator {font-family: monospace;background-color: #f0f8ff;border: 1px dotted black;border-radius: 0.25em;box-sizing: border-box;margin-bottom: 0.5em;}#sk-container-id-3 div.sk-estimator:hover {background-color: #d4ebff;}#sk-container-id-3 div.sk-parallel-item::after {content: \"\";width: 100%;border-bottom: 1px solid gray;flex-grow: 1;}#sk-container-id-3 div.sk-label:hover label.sk-toggleable__label {background-color: #d4ebff;}#sk-container-id-3 div.sk-serial::before {content: \"\";position: absolute;border-left: 1px solid gray;box-sizing: border-box;top: 0;bottom: 0;left: 50%;z-index: 0;}#sk-container-id-3 div.sk-serial {display: flex;flex-direction: column;align-items: center;background-color: white;padding-right: 0.2em;padding-left: 0.2em;position: relative;}#sk-container-id-3 div.sk-item {position: relative;z-index: 1;}#sk-container-id-3 div.sk-parallel {display: flex;align-items: stretch;justify-content: center;background-color: white;position: relative;}#sk-container-id-3 div.sk-item::before, #sk-container-id-3 div.sk-parallel-item::before {content: \"\";position: absolute;border-left: 1px solid gray;box-sizing: border-box;top: 0;bottom: 0;left: 50%;z-index: -1;}#sk-container-id-3 div.sk-parallel-item {display: flex;flex-direction: column;z-index: 1;position: relative;background-color: white;}#sk-container-id-3 div.sk-parallel-item:first-child::after {align-self: flex-end;width: 50%;}#sk-container-id-3 div.sk-parallel-item:last-child::after {align-self: flex-start;width: 50%;}#sk-container-id-3 div.sk-parallel-item:only-child::after {width: 0;}#sk-container-id-3 div.sk-dashed-wrapped {border: 1px dashed gray;margin: 0 0.4em 0.5em 0.4em;box-sizing: border-box;padding-bottom: 0.4em;background-color: white;}#sk-container-id-3 div.sk-label label {font-family: monospace;font-weight: bold;display: inline-block;line-height: 1.2em;}#sk-container-id-3 div.sk-label-container {text-align: center;}#sk-container-id-3 div.sk-container {/* jupyter's `normalize.less` sets `[hidden] { display: none; }` but bootstrap.min.css set `[hidden] { display: none !important; }` so we also need the `!important` here to be able to override the default hidden behavior on the sphinx rendered scikit-learn.org. See: https://github.com/scikit-learn/scikit-learn/issues/21755 */display: inline-block !important;position: relative;}#sk-container-id-3 div.sk-text-repr-fallback {display: none;}</style><div id=\"sk-container-id-3\" class=\"sk-top-container\"><div class=\"sk-text-repr-fallback\"><pre>GradientBoostingRegressor(learning_rate=0.0391, max_features=&#x27;sqrt&#x27;,\n",
              "                          n_estimators=574)</pre><b>In a Jupyter environment, please rerun this cell to show the HTML representation or trust the notebook. <br />On GitHub, the HTML representation is unable to render, please try loading this page with nbviewer.org.</b></div><div class=\"sk-container\" hidden><div class=\"sk-item\"><div class=\"sk-estimator sk-toggleable\"><input class=\"sk-toggleable__control sk-hidden--visually\" id=\"sk-estimator-id-3\" type=\"checkbox\" checked><label for=\"sk-estimator-id-3\" class=\"sk-toggleable__label sk-toggleable__label-arrow\">GradientBoostingRegressor</label><div class=\"sk-toggleable__content\"><pre>GradientBoostingRegressor(learning_rate=0.0391, max_features=&#x27;sqrt&#x27;,\n",
              "                          n_estimators=574)</pre></div></div></div></div></div>"
            ]
          },
          "metadata": {},
          "execution_count": 31
        }
      ]
    },
    {
      "cell_type": "code",
      "source": [
        "feature.to_csv(f'/content/drive/MyDrive/Colab/kaggle/HousePrices/feature_train_stacked.csv', index = False)\n",
        "test.to_csv(f'/content/drive/MyDrive/Colab/kaggle/HousePrices/test_stacked.csv', index=False)\n",
        "target.to_csv(f'/content/drive/MyDrive/Colab/kaggle/HousePrices/target_tran.csv', index=False)"
      ],
      "metadata": {
        "id": "LXLR9ojeU1-z"
      },
      "execution_count": null,
      "outputs": []
    },
    {
      "cell_type": "code",
      "source": [
        "prediction = M.predict(test)\n",
        "result =pd.DataFrame({'Id':[int(1461+x) for x in range(len(prediction))], 'SalePrice':prediction})\n",
        "result.to_csv('submission.csv',index=False )"
      ],
      "metadata": {
        "id": "PWkvq3K8Jv5Z"
      },
      "execution_count": null,
      "outputs": []
    },
    {
      "cell_type": "code",
      "source": [
        "from google.colab import files\n",
        "# Upload the kaggle.json file\n",
        "files.upload()\n",
        "!mkdir /root/.kaggle/\n",
        "!cp kaggle.json /root/.kaggle/"
      ],
      "metadata": {
        "id": "ancMMxVlK4HX"
      },
      "execution_count": null,
      "outputs": []
    },
    {
      "cell_type": "code",
      "source": [
        "!kaggle competitions submit -c house-prices-advanced-regression-techniques -f submission.csv -m \"Message\""
      ],
      "metadata": {
        "colab": {
          "base_uri": "https://localhost:8080/"
        },
        "id": "LHZIcRbiKoxf",
        "outputId": "d31248be-e4a0-43a3-b8c8-913df83003c6"
      },
      "execution_count": null,
      "outputs": [
        {
          "output_type": "stream",
          "name": "stdout",
          "text": [
            "Warning: Your Kaggle API key is readable by other users on this system! To fix this, you can run 'chmod 600 /root/.kaggle/kaggle.json'\n",
            "Warning: Looks like you're using an outdated API Version, please consider updating (server 1.6.3 / client 1.5.16)\n",
            "100% 33.7k/33.7k [00:02<00:00, 16.8kB/s]\n",
            "Successfully submitted to House Prices - Advanced Regression Techniques"
          ]
        }
      ]
    },
    {
      "cell_type": "code",
      "source": [],
      "metadata": {
        "id": "88sBMvEeTQYw"
      },
      "execution_count": null,
      "outputs": []
    }
  ]
}